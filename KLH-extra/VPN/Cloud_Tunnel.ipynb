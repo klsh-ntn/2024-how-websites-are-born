{
  "nbformat": 4,
  "nbformat_minor": 0,
  "metadata": {
    "colab": {
      "provenance": []
    },
    "kernelspec": {
      "name": "python3",
      "display_name": "Python 3"
    },
    "language_info": {
      "name": "python"
    }
  },
  "cells": [
    {
      "cell_type": "markdown",
      "source": [
        "Скачать localtunnel"
      ],
      "metadata": {
        "id": "3Kzd2FwQWfpw"
      }
    },
    {
      "cell_type": "code",
      "execution_count": null,
      "metadata": {
        "id": "3qCNlSVSWPZc"
      },
      "outputs": [],
      "source": [
        "%%bash\n",
        "\n",
        "npm install -g localtunnel"
      ]
    },
    {
      "cell_type": "markdown",
      "source": [
        "Пример запуска на Python (не нужно)"
      ],
      "metadata": {
        "id": "Odu8UxXfWuZs"
      }
    },
    {
      "cell_type": "code",
      "source": [
        "import subprocess\n",
        "import multiprocessing\n",
        "import time\n",
        "\n",
        "def tunnel():\n",
        "    with open(\"log.txt\", \"w\") as f:\n",
        "        subprocess.call([\"lt\", \"--port\", \"8000\"], stdout=f)\n",
        "\n",
        "def server():\n",
        "    subprocess.call([\"python\", \"-m\", \"http.server\"])\n",
        "\n",
        "p1 = multiprocessing.Process(target=tunnel)\n",
        "p2 = multiprocessing.Process(target=server)\n",
        "p1.start()\n",
        "time.sleep(4)\n",
        "p2.start()\n"
      ],
      "metadata": {
        "id": "rr1tb0LZWQSw"
      },
      "execution_count": null,
      "outputs": []
    },
    {
      "cell_type": "markdown",
      "source": [
        "Открыть туннель из облака на 127.0.0.1:8000"
      ],
      "metadata": {
        "id": "wQDBgsBaW34y"
      }
    },
    {
      "cell_type": "code",
      "source": [
        "%%bash\n",
        "\n",
        "lt --port 8000"
      ],
      "metadata": {
        "id": "8jVVgyUzWTBF"
      },
      "execution_count": null,
      "outputs": []
    },
    {
      "cell_type": "markdown",
      "source": [
        "Добыть пароль для входа на сайт"
      ],
      "metadata": {
        "id": "tXnSar2dXZDg"
      }
    },
    {
      "cell_type": "code",
      "source": [
        "%%bash\n",
        "wget -q -O - https://loca.lt/mytunnelpassword"
      ],
      "metadata": {
        "id": "N5JmxVovWVRY"
      },
      "execution_count": null,
      "outputs": []
    }
  ]
}