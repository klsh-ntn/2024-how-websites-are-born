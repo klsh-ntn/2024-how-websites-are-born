{
  "nbformat": 4,
  "nbformat_minor": 0,
  "metadata": {
    "colab": {
      "provenance": []
    },
    "kernelspec": {
      "name": "python3",
      "display_name": "Python 3"
    },
    "language_info": {
      "name": "python"
    }
  },
  "cells": [
    {
      "cell_type": "code",
      "execution_count": null,
      "metadata": {
        "id": "azTjLh84iIY7"
      },
      "outputs": [],
      "source": [
        "%%bash\n",
        "\n",
        "pip install proxy.py"
      ]
    },
    {
      "cell_type": "code",
      "source": [
        "import subprocess\n",
        "import multiprocessing\n",
        "import time\n",
        "\n",
        "def server():\n",
        "    subprocess.call([\"proxy\", \"--hostname\", \"0.0.0.0\"])\n",
        "\n",
        "p = multiprocessing.Process(target=server)\n",
        "p.start()\n"
      ],
      "metadata": {
        "id": "8UscwX22TcG0"
      },
      "execution_count": 24,
      "outputs": []
    },
    {
      "cell_type": "markdown",
      "source": [
        "Вместо 1298 поставьте любое число от 1001 до 30000. Старайтесь избегать популярных чисел, вроде 8000, 8080, 1234 и т.п."
      ],
      "metadata": {
        "id": "oRiiS9_hTnK1"
      }
    },
    {
      "cell_type": "code",
      "source": [
        "%%bash\n",
        "ssh -o StrictHostKeyChecking=no -fN -R 1298:localhost:8899 serveo.net > log.txt"
      ],
      "metadata": {
        "id": "v25Te2gjRxlb"
      },
      "execution_count": 29,
      "outputs": []
    },
    {
      "cell_type": "markdown",
      "source": [
        "Подключитесь к прокси serveo.net порт тот, который вы указали вместо 1298."
      ],
      "metadata": {
        "id": "fgn_OOncUAe8"
      }
    }
  ]
}